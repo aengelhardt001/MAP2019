{
 "cells": [
  {
   "cell_type": "code",
   "execution_count": 17,
   "metadata": {},
   "outputs": [],
   "source": [
    "import pynbody\n",
    "import matplotlib.pyplot as plt\n",
    "import matplotlib as mpl\n",
    "import numpy as np\n",
    "import pynbody.plot as pp\n",
    "import pickle\n",
    "import pandas as pd\n",
    "\n",
    "# set the config to prioritize the AHF catalog\n",
    "pynbody.config['halo-class-priority'] =  [pynbody.halo.ahf.AHFCatalogue,\n",
    "                                          pynbody.halo.GrpCatalogue,\n",
    "                                          pynbody.halo.AmigaGrpCatalogue,\n",
    "                                          pynbody.halo.legacy.RockstarIntermediateCatalogue,\n",
    "                                          pynbody.halo.rockstar.RockstarCatalogue,\n",
    "                                          pynbody.halo.subfind.SubfindCatalogue,\n",
    "                                          pynbody.halo.hop.HOPCatalogue]\n",
    "\n",
    "# we define the operation as a function, which takes in filepath and halo nums as input\n",
    "# you should rename 'operation' to correspond to whatever it is doing\n",
    "# i.e. if it computes gas fraction you should change the line below to `def gasFrac(filepath,halo_nums):`\n",
    "\n",
    "# prop is the property that you are computing\n",
    "prop = 'GasFraction'\n",
    "\n",
    "def operation(filepath,halo_nums):\n",
    "    # first, load in the simulation and halos\n",
    "    s = pynbody.load(filepath)\n",
    "    s.physical_units()\n",
    "    h = s.halos()\n",
    "    # then we open the .data file\n",
    "    with open(filepath+prop+'.data','wb') as f:\n",
    "        # we loop through all the halos, compute a value for that halo, and add it to the .data file\n",
    "        for halo_num in halo_nums:\n",
    "            # we load the copy of the halo to minimize computational stress\n",
    "            halo = h.load_copy(halo_num)\n",
    "            halo.physical_units()\n",
    "            \n",
    "            ###################################\n",
    "            # here is where you compute your stuff\n",
    "            # i.e. calculate the color, gas fraction, mass of each halo\n",
    "            # so in this example we will just compute the stellar mass and the gas mass\n",
    "            \n",
    "            mstar = np.sum(halo.star['mass'])\n",
    "            mgas  = np.sum(halo.gas['mass'])\n",
    "            GasFrac = mgas/(mstar+mgas)\n",
    "            mHI = np.sum(h[halo_num].gas['HI']*halo.gas['mass'])\n",
    "            HIGasFrac = mHI/(mstar)\n",
    "            #print(halo_num,nstar,ngas)\n",
    "            ###################################\n",
    "            \n",
    "            # now we add these to the .data file\n",
    "            pickle.dump({\n",
    "                'haloid': halo_num,  # always put the haloid here\n",
    "                'mstar': mstar,\n",
    "                'mgas': mgas,\n",
    "                'gFraction': GasFrac,\n",
    "                'mHI': mHI,\n",
    "                'HIGF': HIGasFrac\n",
    "\n",
    "            },f,pickle.HIGHEST_PROTOCOL)\n",
    "            "
   ]
  },
  {
   "cell_type": "code",
   "execution_count": 18,
   "metadata": {},
   "outputs": [],
   "source": [
    "#sim1 = '/home/akinshol/Data/Sims/h148.cosmo50PLK.3072g3HbwK1BH/h148.cosmo50PLK.3072g3HbwK1BH.004096/h148.cosmo50PLK.3072g3HbwK1BH.004096'\n",
    "#sim2 = '/home/akinshol/Data/Sims/h229.cosmo50PLK.3072gst5HbwK1BH/h229.cosmo50PLK.3072gst5HbwK1BH.004096/h229.cosmo50PLK.3072gst5HbwK1BH.004096'\n",
    "#sim3 = '/home/akinshol/Data/Sims/h242.cosmo50PLK.3072gst5HbwK1BH/h242.cosmo50PLK.3072gst5HbwK1BH.004096/h242.cosmo50PLK.3072gst5HbwK1BH.004096'\n",
    "sim4 = '/home/akinshol/Data/Sims/h329.cosmo50PLK.3072gst5HbwK1BH/h329.cosmo50PLK.3072gst5HbwK1BH.004096/h329.cosmo50PLK.3072gst5HbwK1BH.004096'\n",
    "\n",
    "# here is where we will put whatever halo numbers we decide are interesting and worth computing\n",
    "# i.e. all the halos with stars in them\n",
    "\n",
    "nums1 = [1, 2, 3, 5, 6, 7, 9, 10, 11, 12, 13, 14, 17, 18, 20, 21, 22, 23, 26, 27, 28, 30, 31, 32, 34, 36, 37, 38, 40, 41, 42, 45, 46, 48, 55, 57, 58, 60, 64, 71, 73, 77, 80, 91, 94, 95, 99, 106, 115, 121, 125, 126, 131, 140, 143, 160, 223, 252, 264, 271, 304, 353, 372, 373, 435, 465, 590, 647, 677, 682, 738, 869, 961, 980, 1146, 1155, 1381, 2792, 4897, 10814]\n",
    "nums2 = [1, 2, 3, 4, 7, 14, 16, 17, 18, 19, 21, 22, 25, 27, 28, 29, 30, 33, 36, 41, 50, 51, 52, 56, 60, 62, 70, 73, 75, 95, 104, 108, 134, 203, 277, 553, 982, 1319, 1409, 1481, 4380, 5722]\n",
    "nums3 = [1, 4, 9, 10, 11, 12, 19, 24, 29, 30, 33, 36, 39, 40, 45, 46, 48, 53, 57, 62, 66, 69, 70, 72, 75, 76, 85, 89, 102, 133, 152, 185, 211, 302, 425, 457, 536, 1773, 2748, 2891, 9059, 9126, 10085, 11901]\n",
    "nums4 = [1, 8, 9, 13, 14, 19, 25, 31, 32, 40, 47, 63, 92, 99, 126, 129, 135, 170, 195, 444, 686, 942, 1418]\n",
    "\n",
    "# here we perform the operation, which in your code would be named by what it actually does\n",
    "#operation(sim1,nums1)\n",
    "#operation(sim2,nums2)\n",
    "#operation(sim3,nums3)\n",
    "operation(sim4,nums4)"
   ]
  },
  {
   "cell_type": "code",
   "execution_count": 27,
   "metadata": {},
   "outputs": [
    {
     "data": {
      "image/png": "[encoded data removed]",
      "text/plain": [
       "<Figure size 432x288 with 1 Axes>"
      ]
     },
     "metadata": {},
     "output_type": "display_data"
    }
   ],
   "source": [
    "data = []\n",
    "with open(sim4 + prop+'.data', 'rb') as f:\n",
    "    while True:\n",
    "        try:\n",
    "            data.append(pickle.load(f))\n",
    "        except EOFError:\n",
    "            break\n",
    "        \n",
    "    data = pd.DataFrame(data)\n",
    "\n",
    "\n",
    "### edit the code below to plot what you want\n",
    "\n",
    "plt.figure()\n",
    "plt.loglog()\n",
    "plt.ylim(1e-4, 1e2)\n",
    "# notice how you can retrieve the things we stored using the data array with data['key']\n",
    "plt.scatter(data['mstar'],data['HIGF'],label='all data') \n",
    "# notice also that you can filter the stored arrays based on the values of other stored arrays\n",
    "# using data['key'][True/False statement]\n",
    "#plt.scatter(data['mstar'][data['haloid']>=100], data['mgas'][data['haloid']>=100],label='haloid > 100')\n",
    "plt.legend()\n",
    "plt.xlabel('Stellar Mass [$M_\\odot$]')\n",
    "plt.ylabel('Gaseous Mass [$M_\\odot$]')\n",
    "plt.show()"
   ]
  },
  {
   "cell_type": "code",
   "execution_count": 28,
   "metadata": {},
   "outputs": [
    {
     "name": "stdout",
     "output_type": "stream",
     "text": [
      "0     0.0051529498930892315\n",
      "1        1.6513174962607187\n",
      "2         2.471294167294117\n",
      "3        1.1794809477233457\n",
      "4         2.054735840892067\n",
      "5        1.0987871445993505\n",
      "6       0.08600937882103071\n",
      "7                       0.0\n",
      "8                       0.0\n",
      "9                       0.0\n",
      "10       1.3695957650105643\n",
      "11                      0.0\n",
      "12        4.115172100292927\n",
      "13                      0.0\n",
      "14                      0.0\n",
      "15                      0.0\n",
      "16                      0.0\n",
      "17                      0.0\n",
      "18       16.244744444013936\n",
      "19                      0.0\n",
      "20                      0.0\n",
      "21                      0.0\n",
      "22                      0.0\n",
      "Name: HIGF, dtype: object\n"
     ]
    }
   ],
   "source": [
    "print(data['HIGF'])"
   ]
  },
  {
   "cell_type": "code",
   "execution_count": 32,
   "metadata": {},
   "outputs": [],
   "source": [
    "fquenches = len(data['HIGF'][data['HIGF']<0.2])/len(data['HIGF'])"
   ]
  },
  {
   "cell_type": "code",
   "execution_count": 33,
   "metadata": {},
   "outputs": [
    {
     "data": {
      "text/plain": [
       "0.6521739130434783"
      ]
     },
     "execution_count": 33,
     "metadata": {},
     "output_type": "execute_result"
    }
   ],
   "source": [
    "fquenches"
   ]
  },
  {
   "cell_type": "code",
   "execution_count": null,
   "metadata": {
    "collapsed": true
   },
   "outputs": [],
   "source": []
  }
 ],
 "metadata": {
  "kernelspec": {
   "display_name": "Python 3",
   "language": "python",
   "name": "python3"
  },
  "language_info": {
   "codemirror_mode": {
    "name": "ipython",
    "version": 3
   },
   "file_extension": ".py",
   "mimetype": "text/x-python",
   "name": "python",
   "nbconvert_exporter": "python",
   "pygments_lexer": "ipython3",
   "version": "3.7.3"
  }
 },
 "nbformat": 4,
 "nbformat_minor": 2
}
