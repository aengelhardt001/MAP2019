{
 "cells": [
  {
   "cell_type": "code",
   "execution_count": 2,
   "metadata": {},
   "outputs": [],
   "source": [
    "import numpy as np\n",
    "import pynbody\n",
    "import matplotlib.pyplot as plt\n",
    "import matplotlib as mpl\n",
    "import pynbody.plot as pp\n",
    "import pickle\n",
    "import pandas as pd\n",
    "import pynbody.plot.sph as sph"
   ]
  },
  {
   "cell_type": "code",
   "execution_count": 3,
   "metadata": {},
   "outputs": [],
   "source": [
    "from Time import *"
   ]
  },
  {
   "cell_type": "code",
   "execution_count": 5,
   "metadata": {},
   "outputs": [],
   "source": [
    "#from Load import *"
   ]
  },
  {
   "cell_type": "code",
   "execution_count": 35,
   "metadata": {},
   "outputs": [],
   "source": [
    "timestep = '002176'\n",
    "sim_1 ='/home/christenc/Data/Sims/h148.cosmo50PLK.3072g/h148.cosmo50PLK.3072g3HbwK1BH/snapshots/h148.cosmo50PLK.3072g3HbwK1BH.' + timestep\n",
    "s1 = pynbody.load(sim_1)\n",
    "h1 = s1.halos()\n",
    "s1.physical_units()\n",
    "\n",
    "halo_num = 10\n",
    "halo = h1.load_copy(halo_num)\n",
    "halo.physical_units()"
   ]
  },
  {
   "cell_type": "code",
   "execution_count": 36,
   "metadata": {},
   "outputs": [
    {
     "data": {
      "text/plain": [
       "<pynbody.transformation.GenericTranslation at 0x7f3b48d80320>"
      ]
     },
     "execution_count": 36,
     "metadata": {},
     "output_type": "execute_result"
    }
   ],
   "source": [
    "pynbody.analysis.halo.center(halo) "
   ]
  },
  {
   "cell_type": "code",
   "execution_count": 42,
   "metadata": {},
   "outputs": [],
   "source": [
    "h = h1\n",
    "rvir_phys = h[halo_num].properties['Rvir']/h[halo_num].properties['h']*h[halo_num].properties['a']\n",
    "inner_sphere95 = pynbody.filt.Sphere(str(.9*rvir_phys) + ' kpc', [0,0,0])\n",
    "outer_sphere95 = pynbody.filt.Sphere(str(rvir_phys) + ' kpc', [0,0,0])\n",
    "shell_part95 = halo[outer_sphere95 & ~inner_sphere95].gas\n",
    "\n",
    "#Perform calculations\n",
    "velocity95 = shell_part95['vel'].in_units('kpc yr**-1')\n",
    "r95 = shell_part95['pos'].in_units('kpc')\n",
    "Mg95 = shell_part95['mass'].in_units('Msol')\n",
    "r_mag95 = shell_part95['r'].in_units('kpc')\n",
    "\n",
    "G_in95 = []     #List of inflowing gas flux per particles at Rvir = .9-1\n",
    "G_out95 = []     #List of outflowing gas flux per particles at Rvir = .9-1\n",
    "vr95 = np.sum((velocity95*r95), axis=1)\n",
    "\n",
    "dL = 0.1*rvir_phys\n",
    "for x in range(len(vr95)):\n",
    "    if vr95[x] < 0:\n",
    "        gin95 = np.array(((vr95[x]/r_mag95[x])*Mg95[x])/dL)\n",
    "        G_in95 = np.append(G_in95, gin95)\n",
    "    else:\n",
    "        gout95 = np.sum(((vr95[x]/r_mag95[x])*Mg95[x])/dL)\n",
    "        G_out95 = np.append(G_out95, gout95)\n",
    "#Net flux for inflow and outflow at .95*Rvir\n",
    "ginflow95 = np.sum(G_in95)\n",
    "goutflow95 = np.sum(G_out95)\n"
   ]
  },
  {
   "cell_type": "code",
   "execution_count": 38,
   "metadata": {},
   "outputs": [
    {
     "data": {
      "text/plain": [
       "42.26879503859104"
      ]
     },
     "execution_count": 38,
     "metadata": {},
     "output_type": "execute_result"
    }
   ],
   "source": [
    "h[halo_num].properties['Rvir']/h[halo_num].properties['h']*h[halo_num].properties['a']"
   ]
  },
  {
   "cell_type": "code",
   "execution_count": 39,
   "metadata": {},
   "outputs": [
    {
     "data": {
      "text/plain": [
       "42.380969421061046"
      ]
     },
     "execution_count": 39,
     "metadata": {},
     "output_type": "execute_result"
    }
   ],
   "source": [
    "max(halo.gas['r'].in_units('kpc'))"
   ]
  },
  {
   "cell_type": "code",
   "execution_count": 40,
   "metadata": {},
   "outputs": [
    {
     "data": {
      "text/plain": [
       "{'omegaM0': 0.3086,\n",
       " 'omegaL0': 0.6914,\n",
       " 'h': 0.6776942783267969,\n",
       " 'boxsize': Unit(\"2.95e+04 kpc\"),\n",
       " 'a': 0.5895311905622812,\n",
       " 'time': Unit(\"7.50e+00 kpc s km**-1\")}"
      ]
     },
     "execution_count": 40,
     "metadata": {},
     "output_type": "execute_result"
    }
   ],
   "source": [
    "halo.properties"
   ]
  },
  {
   "cell_type": "code",
   "execution_count": 43,
   "metadata": {},
   "outputs": [
    {
     "data": {
      "text/plain": [
       "-0.410328965945558"
      ]
     },
     "execution_count": 43,
     "metadata": {},
     "output_type": "execute_result"
    }
   ],
   "source": [
    "ginflow95"
   ]
  },
  {
   "cell_type": "code",
   "execution_count": 44,
   "metadata": {},
   "outputs": [
    {
     "data": {
      "text/plain": [
       "0.07654576543900106"
      ]
     },
     "execution_count": 44,
     "metadata": {},
     "output_type": "execute_result"
    }
   ],
   "source": [
    "goutflow95"
   ]
  },
  {
   "cell_type": "code",
   "execution_count": null,
   "metadata": {},
   "outputs": [],
   "source": []
  }
 ],
 "metadata": {
  "kernelspec": {
   "display_name": "Python 3",
   "language": "python",
   "name": "python3"
  },
  "language_info": {
   "codemirror_mode": {
    "name": "ipython",
    "version": 3
   },
   "file_extension": ".py",
   "mimetype": "text/x-python",
   "name": "python",
   "nbconvert_exporter": "python",
   "pygments_lexer": "ipython3",
   "version": "3.7.3"
  }
 },
 "nbformat": 4,
 "nbformat_minor": 2
}
