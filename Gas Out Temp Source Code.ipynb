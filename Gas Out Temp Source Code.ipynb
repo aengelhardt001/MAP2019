{
 "cells": [
  {
   "cell_type": "code",
   "execution_count": 1,
   "metadata": {},
   "outputs": [],
   "source": [
    "import numpy as np\n",
    "import pynbody\n",
    "import matplotlib.pyplot as plt\n",
    "import matplotlib as mpl\n",
    "import pynbody.plot as pp\n",
    "import pickle\n",
    "import pandas as pd\n",
    "import pynbody.plot.sph as sph"
   ]
  },
  {
   "cell_type": "code",
   "execution_count": 2,
   "metadata": {},
   "outputs": [
    {
     "name": "stderr",
     "output_type": "stream",
     "text": [
      "/home/engelhar/anaconda3/lib/python3.7/site-packages/pandas/core/frame.py:6692: FutureWarning: Sorting because non-concatenation axis is not aligned. A future version\n",
      "of pandas will change to not sort by default.\n",
      "\n",
      "To accept the future behavior, pass 'sort=False'.\n",
      "\n",
      "To retain the current behavior and silence the warning, pass 'sort=True'.\n",
      "\n",
      "  sort=sort)\n"
     ]
    }
   ],
   "source": [
    "from Star import *"
   ]
  },
  {
   "cell_type": "code",
   "execution_count": 3,
   "metadata": {},
   "outputs": [],
   "source": [
    "from Load import *"
   ]
  },
  {
   "cell_type": "code",
   "execution_count": 3,
   "metadata": {},
   "outputs": [],
   "source": [
    "s1 = pynbody.load(sim1)\n",
    "h1 = s1.halos()\n",
    "s1.physical_units()"
   ]
  },
  {
   "cell_type": "code",
   "execution_count": 4,
   "metadata": {},
   "outputs": [],
   "source": [
    "s2 = pynbody.load(sim2)\n",
    "h2 = s2.halos()\n",
    "s2.physical_units()"
   ]
  },
  {
   "cell_type": "code",
   "execution_count": 5,
   "metadata": {},
   "outputs": [],
   "source": [
    "s3 = pynbody.load(sim3)\n",
    "h3 = s3.halos()\n",
    "s3.physical_units()"
   ]
  },
  {
   "cell_type": "code",
   "execution_count": 6,
   "metadata": {},
   "outputs": [],
   "source": [
    "s4 = pynbody.load(sim4)\n",
    "h4 = s4.halos()\n",
    "s4.physical_units()"
   ]
  },
  {
   "cell_type": "code",
   "execution_count": null,
   "metadata": {},
   "outputs": [],
   "source": []
  },
  {
   "cell_type": "code",
   "execution_count": 30,
   "metadata": {},
   "outputs": [
    {
     "data": {
      "text/plain": [
       "<pynbody.transformation.GenericTranslation at 0x7f50d2538358>"
      ]
     },
     "execution_count": 30,
     "metadata": {},
     "output_type": "execute_result"
    }
   ],
   "source": [
    "i = 34\n",
    "halo_info = s1.halos(dummy=True)\n",
    "halo = h1.load_copy(i)\n",
    "#center on the halos\n",
    "pynbody.analysis.halo.center(halo)"
   ]
  },
  {
   "cell_type": "code",
   "execution_count": 31,
   "metadata": {},
   "outputs": [
    {
     "name": "stdout",
     "output_type": "stream",
     "text": [
      "nan\n"
     ]
    },
    {
     "name": "stderr",
     "output_type": "stream",
     "text": [
      "/home/engelhar/anaconda3/lib/python3.7/site-packages/ipykernel_launcher.py:18: RuntimeWarning: invalid value encountered in double_scalars\n"
     ]
    }
   ],
   "source": [
    "VEL = halo.gas['vel'].in_units('kpc yr**-1')\n",
    "R = halo.gas['pos'].in_units('kpc')\n",
    "GM = halo.gas['mass'].in_units('Msol')\n",
    "R_mag = halo.gas['r'].in_units('kpc')\n",
    "T = halo.gas['temp']\n",
    "\n",
    "out_T = []\n",
    "mm_p = []\n",
    "\n",
    "VR = np.sum((VEL*R), axis=1)\n",
    "\n",
    "for x in range(len(VR)):\n",
    "    if VR[x] < 0:\n",
    "        gtmp = np.array(T[x]*GM[x])\n",
    "        mmp = np.array(GM[x])\n",
    "        out_T = np.append(out_T, gtmp)\n",
    "        mm_p = np.append(mm_p, mmp)\n",
    "Gout_T = np.sum(out_T)/np.sum(mm_p)\n",
    "print(Gout_T)"
   ]
  },
  {
   "cell_type": "code",
   "execution_count": null,
   "metadata": {},
   "outputs": [],
   "source": []
  }
 ],
 "metadata": {
  "kernelspec": {
   "display_name": "Python 3",
   "language": "python",
   "name": "python3"
  },
  "language_info": {
   "codemirror_mode": {
    "name": "ipython",
    "version": 3
   },
   "file_extension": ".py",
   "mimetype": "text/x-python",
   "name": "python",
   "nbconvert_exporter": "python",
   "pygments_lexer": "ipython3",
   "version": "3.7.3"
  }
 },
 "nbformat": 4,
 "nbformat_minor": 2
}
