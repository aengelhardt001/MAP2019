{
 "cells": [
  {
   "cell_type": "code",
   "execution_count": 33,
   "metadata": {},
   "outputs": [],
   "source": [
    "import pynbody\n",
    "import matplotlib.pyplot as plt\n",
    "import matplotlib as mpl\n",
    "import numpy as np\n",
    "import pynbody.plot as pp\n",
    "import pickle\n",
    "import pandas as pd\n",
    "\n",
    "# set the config to prioritize the AHF catalog\n",
    "pynbody.config['halo-class-priority'] =  [pynbody.halo.ahf.AHFCatalogue,\n",
    "                                          pynbody.halo.GrpCatalogue,\n",
    "                                          pynbody.halo.AmigaGrpCatalogue,\n",
    "                                          pynbody.halo.legacy.RockstarIntermediateCatalogue,\n",
    "                                          pynbody.halo.rockstar.RockstarCatalogue,\n",
    "                                          pynbody.halo.subfind.SubfindCatalogue,\n",
    "                                          pynbody.halo.hop.HOPCatalogue]\n",
    "\n",
    "# we define the operation as a function, which takes in filepath and halo nums as input\n",
    "# you should rename 'operation' to correspond to whatever it is doing\n",
    "# i.e. if it computes gas fraction you should change the line below to `def gasFrac(filepath,halo_nums):`\n",
    "\n",
    "# prop is the property that you are computing\n",
    "prop = 'GasMetallicity'\n",
    "\n",
    "def operation(filepath,halo_nums):\n",
    "    # first, load in the simulation and halos\n",
    "    s = pynbody.load(filepath)\n",
    "    s.physical_units()\n",
    "    h = s.halos()\n",
    "    # then we open the .data file\n",
    "    with open(filepath+prop+'.data','wb') as f:\n",
    "        # we loop through all the halos, compute a value for that halo, and add it to the .data file\n",
    "        for halo_num in halo_nums:\n",
    "            # we load the copy of the halo to minimize computational stress\n",
    "            halo = h.load_copy(halo_num)\n",
    "            halo.physical_units()\n",
    "            \n",
    "            ###################################\n",
    "            # here is where you compute your stuff\n",
    "            # i.e. calculate the color, gas fraction, mass of each halo\n",
    "            # so in this example we will just compute the stellar mass and the gas mass\n",
    "            \n",
    "            gem = np.sum(h[halo_num].gas['HI']*halo.gas['metals']*halo.gas['mass'])\n",
    "            mzgas = gem/np.sum(halo.gas['mass']*h[halo_num].gas['HI'])\n",
    "            \n",
    "            \n",
    "            sfr, bins = pynbody.plot.stars.sfh(halo, filename=None, massform=False, clear=False, legend=False, subplot=False, trange=False, bins=69)\n",
    "            SFR = sfr[-1]\n",
    "            sSFR = SFR/np.sum(halo.star['mass'])\n",
    "            \n",
    "            #print(halo_num,nstar,ngas)\n",
    "            ###################################\n",
    "            \n",
    "            # now we add these to the .data file\n",
    "            pickle.dump({\n",
    "                'haloid': halo_num,  # always put the haloid here\n",
    "                'gas HI': h[halo_num].gas['HI'],\n",
    "                'gas Metals': halo.gas['metals'],\n",
    "                'gmas': halo.gas['mass'],\n",
    "                'MZgas': mzgas,\n",
    "                'SFR': SFR,\n",
    "                'sSFR': sSFR\n",
    "            \n",
    "            },f,pickle.HIGHEST_PROTOCOL)\n",
    "            \n",
    "            "
   ]
  },
  {
   "cell_type": "code",
   "execution_count": 35,
   "metadata": {},
   "outputs": [
    {
     "name": "stderr",
     "output_type": "stream",
     "text": [
      "/home/engelhar/.local/lib/python3.5/site-packages/pynbody/array.py:346: RuntimeWarning: invalid value encountered in true_divide\n",
      "  return np.ndarray.__truediv__(self, rhs)\n",
      "/home/engelhar/.local/lib/python3.5/site-packages/pynbody/plot/stars.py:632: RuntimeWarning: divide by zero encountered in true_divide\n",
      "  binnorm = 1e-9 * bins / (trange[1] - trange[0])\n"
     ]
    }
   ],
   "source": [
    "# for ease of use I have the filepaths for all of the simulations here\n",
    "#sim1 = '/home/akinshol/Data/Sims/h148.cosmo50PLK.3072g3HbwK1BH/h148.cosmo50PLK.3072g3HbwK1BH.004096/h148.cosmo50PLK.3072g3HbwK1BH.004096'\n",
    "#sim2 = '/home/akinshol/Data/Sims/h229.cosmo50PLK.3072gst5HbwK1BH/h229.cosmo50PLK.3072gst5HbwK1BH.004096/h229.cosmo50PLK.3072gst5HbwK1BH.004096'\n",
    "sim3 = '/home/akinshol/Data/Sims/h242.cosmo50PLK.3072gst5HbwK1BH/h242.cosmo50PLK.3072gst5HbwK1BH.004096/h242.cosmo50PLK.3072gst5HbwK1BH.004096'\n",
    "#sim4 = '/home/akinshol/Data/Sims/h329.cosmo50PLK.3072gst5HbwK1BH/h329.cosmo50PLK.3072gst5HbwK1BH.004096/h329.cosmo50PLK.3072gst5HbwK1BH.004096'\n",
    "\n",
    "# here is where we will put whatever halo numbers we decide are interesting and worth computing\n",
    "# i.e. all the halos with stars in them126, 129, 135, 170, 195, 444, 686, 942, 1418]\n",
    "\n",
    "nums1 = [1, 2, 3, 5, 6, 7, 9, 10, 11, 12, 13, 14, 17, 18, 20, 21, 22, 23, 26, 27, 28, 30, 31, 32, 34, 36, 37, 38, 40, 41, 42, 45, 46, 48, 55, 57, 58, 60, 64, 71, 73, 77, 80, 91, 94, 95, 99, 106, 115, 121, 125, 126, 131, 140, 143, 160, 223, 252, 264, 271, 304, 353, 372, 373, 435, 465, 590, 647, 677, 682, 738, 869, 961, 980, 1146, 1155, 1381, 2792, 4897, 10814]\n",
    "nums2 = [1, 2, 3, 4, 7, 14, 16, 17, 18, 19, 21, 22, 25, 27, 28, 29, 30, 33, 36, 41, 50, 51, 52, 56, 60, 62, 70, 73, 75, 95, 104, 108, 134, 203, 277, 553, 982, 1319, 1409, 1481, 4380, 5722]\n",
    "nums3 = [1, 4, 9, 10, 11, 12, 19, 24, 29, 30, 33, 36, 39, 40, 45, 46, 48, 53, 57, 62, 66, 69, 70, 72, 75, 76, 85, 89, 102, 133, 152, 185, 211, 302, 425, 457, 536, 1773, 2748, 2891, 9059, 9126, 10085, 11901]\n",
    "nums4 = [1, 8, 9, 13, 14, 19, 25, 31, 32, 40, 47, 63, 92, 99, 126, 129, 135, 170, 195, 444, 686, 942, 1418]\n",
    "#nums4 = [104, 108, 134, 203, 277, 553, 982, 1319, 1409, 1481, 4380, 5722]\n",
    "\n",
    "sim  = sim3\n",
    "nums = nums3\n",
    "\n",
    "# here we perform the operation, which in your code would be named by what it actually does\n",
    "operation(sim,nums)"
   ]
  },
  {
   "cell_type": "code",
   "execution_count": 41,
   "metadata": {},
   "outputs": [
    {
     "data": {
      "image/png": "[encoded data removed]",
      "text/plain": [
       "<Figure size 432x288 with 1 Axes>"
      ]
     },
     "metadata": {},
     "output_type": "display_data"
    }
   ],
   "source": [
    "data = []\n",
    "with open(sim3 + prop+'.data', 'rb') as f:\n",
    "    while True:\n",
    "        try:\n",
    "            data.append(pickle.load(f))\n",
    "        except EOFError:\n",
    "            break\n",
    "        \n",
    "    data = pd.DataFrame(data)\n",
    "\n",
    "\n",
    "### edit the code below to plot what you want\n",
    "\n",
    "plt.figure()\n",
    "plt.semilogy()\n",
    "plt.xlim(0,1000)\n",
    "plt.ylim(1e-13, 1e-7)\n",
    "# notice how you can retrieve the things we stored using the data array with data['key']\n",
    "plt.scatter(data['haloid'],data['sSFR'],label='all data') \n",
    "# notice also that you can filter the stored arrays based on the values of other stored arrays\n",
    "# using data['key'][True/False statement]\n",
    "#plt.scatter(data['mstar'][data['haloid']>=100], data['mgas'][data['haloid']>=100],label='haloid > 100')\n",
    "plt.legend()\n",
    "plt.xlabel('Stellar Mass [$M_\\odot$]')\n",
    "plt.ylabel('Gaseous Mass [$M_\\odot$]')\n",
    "plt.show()"
   ]
  },
  {
   "cell_type": "code",
   "execution_count": 23,
   "metadata": {},
   "outputs": [
    {
     "data": {
      "text/plain": [
       "0                      nan\n",
       "1                      nan\n",
       "2                      nan\n",
       "3                      nan\n",
       "4    0.0006731487161022437\n",
       "5                      nan\n",
       "6                      nan\n",
       "7                      nan\n",
       "8                      nan\n",
       "Name: MZgas, dtype: object"
      ]
     },
     "execution_count": 23,
     "metadata": {},
     "output_type": "execute_result"
    }
   ],
   "source": [
    "data['MZgas']"
   ]
  },
  {
   "cell_type": "code",
   "execution_count": null,
   "metadata": {
    "collapsed": true
   },
   "outputs": [],
   "source": [
    "GMZ = []\n",
    "for i in range(5,13000):\n",
    "     if not h[i].properties['n_gas']==0 and not h[i].properties['n_star']==0:\n",
    "        halo = h.load_copy(i)\n",
    "        halo.physical_units\n",
    "        gem = numpy.sum(halo.gas['HI']*halo.gas['metals']*halo.gas['mass'])\n",
    "        mz = gem/numpy.sum(halo.gas['mass']*halo.gas['HI'])\n",
    "        print(i, mz)\n",
    "        GMZ = numpy.append(GMZ,mz)"
   ]
  },
  {
   "cell_type": "code",
   "execution_count": null,
   "metadata": {
    "collapsed": true
   },
   "outputs": [],
   "source": [
    "SFH = []\n",
    "for i in range (5,13000):\n",
    "    if not h[i].properties['n_star']<100:\n",
    "        sfr, bins = pynbody.plot.stars.sfh(h[i], filename=None, massform=True, clear=False, legend=False, subplot=False, trange=False, bins=140)\n",
    "        SFR = numpy.sum(sfr [-10:])\n",
    "        print(SFR)\n",
    "        SFH = numpy.append(SFH,SFR)"
   ]
  }
 ],
 "metadata": {
  "kernelspec": {
   "display_name": "Python 3",
   "language": "python",
   "name": "python3"
  },
  "language_info": {
   "codemirror_mode": {
    "name": "ipython",
    "version": 3
   },
   "file_extension": ".py",
   "mimetype": "text/x-python",
   "name": "python",
   "nbconvert_exporter": "python",
   "pygments_lexer": "ipython3",
   "version": "3.7.3"
  }
 },
 "nbformat": 4,
 "nbformat_minor": 2
}
