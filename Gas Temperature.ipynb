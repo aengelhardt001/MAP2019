{
 "cells": [
  {
   "cell_type": "code",
   "execution_count": 1,
   "metadata": {},
   "outputs": [],
   "source": [
    "import numpy as np\n",
    "import pynbody\n",
    "import matplotlib.pyplot as plt\n",
    "import matplotlib as mpl\n",
    "import pynbody.plot as pp\n",
    "import pickle\n",
    "import pandas as pd\n",
    "import pynbody.plot.sph as sph"
   ]
  },
  {
   "cell_type": "code",
   "execution_count": 2,
   "metadata": {},
   "outputs": [],
   "source": [
    "pynbody.config['halo-class-priority'] =  [pynbody.halo.ahf.AHFCatalogue,\n",
    "                                          pynbody.halo.GrpCatalogue,\n",
    "                                          pynbody.halo.AmigaGrpCatalogue,\n",
    "                                          pynbody.halo.legacy.RockstarIntermediateCatalogue,\n",
    "                                          pynbody.halo.rockstar.RockstarCatalogue,\n",
    "                                          pynbody.halo.subfind.SubfindCatalogue,\n",
    "                                          pynbody.halo.hop.HOPCatalogue]"
   ]
  },
  {
   "cell_type": "code",
   "execution_count": 21,
   "metadata": {},
   "outputs": [],
   "source": [
    "sim1 = '/home/akinshol/Data/Sims/h148.cosmo50PLK.3072g3HbwK1BH/h148.cosmo50PLK.3072g3HbwK1BH.004096/h148.cosmo50PLK.3072g3HbwK1BH.004096'\n",
    "sim2 = '/home/akinshol/Data/Sims/h229.cosmo50PLK.3072gst5HbwK1BH/h229.cosmo50PLK.3072gst5HbwK1BH.004096/h229.cosmo50PLK.3072gst5HbwK1BH.004096'\n",
    "sim3 = '/home/akinshol/Data/Sims/h242.cosmo50PLK.3072gst5HbwK1BH/h242.cosmo50PLK.3072gst5HbwK1BH.004096/h242.cosmo50PLK.3072gst5HbwK1BH.004096'\n",
    "sim4 = '/home/akinshol/Data/Sims/h329.cosmo50PLK.3072gst5HbwK1BH/h329.cosmo50PLK.3072gst5HbwK1BH.004096/h329.cosmo50PLK.3072gst5HbwK1BH.004096'\n",
    "CM = '/home/akinshol/Data/Sims/cptmarvel.cosmo25cmb.4096g5HbwK1BH/cptmarvel.cosmo25cmb.4096g5HbwK1BH.004096.dir/cptmarvel.cosmo25cmb.4096g5HbwK1BH.004096'\n",
    "E = '/home/akinshol/Data/Sims/elektra.cosmo25cmb.4096g5HbwK1BH/elektra.cosmo25cmb.4096g5HbwK1BH.004096.dir/elektra.cosmo25cmb.4096g5HbwK1BH.004096'\n",
    "R = '/home/akinshol/Data/Sims/rogue.cosmo25cmb.4096g5HbwK1BH/rogue.cosmo25cmb.4096g5HbwK1BH.004096.dir/rogue.cosmo25cmb.4096g5HbwK1BH.004096'\n",
    "S = '/home/akinshol/Data/Sims/storm.cosmo25cmb.4096g5HbwK1BH/storm.cosmo25cmb.4096g5HbwK1BH.004096/storm.cosmo25cmb.4096g5HbwK1BH.004096'\n",
    "\n",
    "\n",
    "# here is where we will put whatever halo numbers we decide are interesting and worth computing\n",
    "# i.e. all the halos with stars in them\n",
    "\n",
    "nums1 = [1, 2, 3, 5, 6, 7, 9, 10, 11, 12, 13, 14, 17, 18, 20, 21, 22, 23, 26, 27, 28, 30, 31, 32, 34, 3plt.figure(figsize=(7,7))\n",
    "\n",
    "plt.scatter(abs(data['G_inflow_2.5']), data['zgas'], c='b', label='In')\n",
    "plt.scatter(data['G_outflow_2.5'], data['zgas'], c='r', label='Out')\n",
    "\n",
    "plt.loglog()\n",
    "plt.xlim(1e-5, 10)\n",
    "plt.ylim(1e-8, 1e-1)\n",
    "\n",
    "plt.legend()\n",
    "plt.ylabel('Gas metallicty', size=15)\n",
    "plt.xlabel(r'Inflow/Outflow ($M_{\\odot}$yr)', size=15)\n",
    "plt.title('Flow vs Metallicity', size=20)6, 37, 38, 40, 41, 42, 45, 46, 48, 55, 57, 58, 60, 64, 71, 73, 77, 80, 91, 94, 95, 99, 106, 115, 121, 125, 126, 131, 140, 143, 160, 223, 252, 264, 271, 304, 353, 372, 373, 435, 465, 590, 647, 677, 682, 738, 869, 961, 980, 1146, 1155, 1381, 2792, 4897, 10814]\n",
    "nums2 = [1, 2, 3, 4, 7, 14, 16, 17, 18, 19, 21, 22, 25, 27, 28, 29, 30, 33, 36, 41, 50, 51, 52, 56, 60, 62, 70, 73, 75, 95, 104, 108, 134, 203, 277, 553, 982, 1319, 1409, 1481, 4380, 5722]\n",
    "nums3 = [1, 4, 9, 10, 11, 12, 19, 24, 29, 30, 33, 36, 39, 40, 45, 46, 48, 53, 57, 62, 66, 69, 70, 72, 75, 76, 85, 89, 102, 133, 152, 185, 211, 302, 425, 457, 536, 1773, 2748, 2891, 9059, 9126, 10085, 11901]\n",
    "nums4 = [1, 8, 9, 13, 14, 19, 25, 31, 32, 40, 47, 63, 92, 99, 126, 129, 135, 170, 195, 444, 686, 942, 1418]"
   ]
  },
  {
   "cell_type": "code",
   "execution_count": 22,
   "metadata": {},
   "outputs": [],
   "source": [
    "data1 = []\n",
    "\n",
    "with open(sim1 + '.data', 'rb') as f:\n",
    "    while True:\n",
    "        try:\n",
    "            data1.append(pickle.load(f,encoding='latin1'))\n",
    "        except EOFError:\n",
    "            break\n",
    "        \n",
    "    data1 = pd.DataFrame(data1)\n",
    "    \n",
    "    \n",
    "data2 = []\n",
    "    \n",
    "with open(sim2 + '.data', 'rb') as f:\n",
    "    while True:\n",
    "        try:\n",
    "            data2.append(pickle.load(f,encoding='latin1'))\n",
    "        except EOFError:\n",
    "            break\n",
    "        \n",
    "    data2 = pd.DataFrame(data2)\n",
    "    \n",
    "    \n",
    "data3 = []\n",
    "    \n",
    "with open(sim3 + '.data', 'rb') as f:\n",
    "    while True:\n",
    "        try:\n",
    "            data3.append(pickle.load(f,encoding='latin1'))\n",
    "        except EOFError:\n",
    "            break\n",
    "        \n",
    "    data3 = pd.DataFrame(data3)\n",
    "    \n",
    "    \n",
    "data4 = []\n",
    "    \n",
    "with open(sim4 + '.data', 'rb') as f:\n",
    "    while True:\n",
    "        try:\n",
    "            data4.append(pickle.load(f,encoding='latin1'))\n",
    "        except EOFError:\n",
    "            break\n",
    "        \n",
    "    data4 = pd.DataFrame(data4)\n",
    "    \n",
    "Cap_Marvel = []\n",
    "    \n",
    "with open(CM + '.data', 'rb') as f:\n",
    "    while True:\n",
    "        try:\n",
    "            Cap_Marvel.append(pickle.load(f,encoding='latin1'))\n",
    "        except EOFError:\n",
    "            break\n",
    "        \n",
    "    Cap_Marvel = pd.DataFrame(Cap_Marvel)\n",
    "    \n",
    "Elektra = []\n",
    "    \n",
    "with open(E + '.data', 'rb') as f:\n",
    "    while True:\n",
    "        try:\n",
    "            Elektra.append(pickle.load(f,encoding='latin1'))\n",
    "        except EOFError:\n",
    "            break\n",
    "        \n",
    "    Elektra = pd.DataFrame(Elektra)\n",
    "\n",
    "Rogue = []\n",
    "    \n",
    "with open(R + '.data', 'rb') as f:\n",
    "    while True:\n",
    "        try:\n",
    "            Rogue.append(pickle.load(f,encoding='latin1'))\n",
    "        except EOFError:\n",
    "            break\n",
    "        \n",
    "    Rogue = pd.DataFrame(Rogue)\n",
    "    \n",
    "Storm = []\n",
    "    \n",
    "with open(S + '.data', 'rb') as f:\n",
    "    while True:\n",
    "        try:\n",
    "            Storm.append(pickle.load(f,encoding='latin1'))\n",
    "        except EOFError:\n",
    "            break\n",
    "        \n",
    "    Storm = pd.DataFrame(Storm)"
   ]
  },
  {
   "cell_type": "code",
   "execution_count": 24,
   "metadata": {},
   "outputs": [],
   "source": [
    "data = data1.append(data2)\n",
    "data = data.append(data3)\n",
    "data = data.append(data4)\n",
    "data = data.append(Cap_Marvel)\n",
    "data = data.append(Elektra)\n",
    "data = data.append(Storm)\n",
    "data = data.append(Rogue)"
   ]
  },
  {
   "cell_type": "code",
   "execution_count": 27,
   "metadata": {},
   "outputs": [],
   "source": [
    "s1 = pynbody.load(sim1)\n",
    "h1 = s1.halos()\n",
    "s1.physical_units()"
   ]
  },
  {
   "cell_type": "code",
   "execution_count": 28,
   "metadata": {},
   "outputs": [],
   "source": [
    "s2 = pynbody.load(sim2)\n",
    "h2 = s2.halos()\n",
    "s2.physical_units()"
   ]
  },
  {
   "cell_type": "code",
   "execution_count": 29,
   "metadata": {},
   "outputs": [],
   "source": [
    "s3 = pynbody.load(sim3)\n",
    "h3 = s3.halos()\n",
    "s3.physical_units()"
   ]
  },
  {
   "cell_type": "code",
   "execution_count": 30,
   "metadata": {},
   "outputs": [],
   "source": [
    "s4 = pynbody.load(sim4)\n",
    "h4 = s4.halos()\n",
    "s4.physical_units()"
   ]
  },
  {
   "cell_type": "markdown",
   "metadata": {},
   "source": [
    "# Temperature Functions"
   ]
  },
  {
   "cell_type": "code",
   "execution_count": 9,
   "metadata": {},
   "outputs": [
    {
     "data": {
      "image/png": "[encoded data removed]",
      "text/plain": [
       "<Figure size 504x504 with 1 Axes>"
      ]
     },
     "metadata": {
      "needs_background": "light"
     },
     "output_type": "display_data"
    }
   ],
   "source": [
    "plt.figure(figsize=(7,7))\n",
    "\n",
    "plt.scatter(data['mass'], data['g_temp'], label='SF', c='b')\n",
    "plt.scatter(data['mass'][data['sSFR']<2e-11], data['g_temp'][data['sSFR']<2e-11], label='Q', c='r')\n",
    "plt.loglog()\n",
    "plt.ylim(1e3, 5e6)\n",
    "plt.xlim(5e8, 1e13)\n",
    "\n",
    "plt.title ('Halo mass vs Gas temp')\n",
    "plt.ylabel ('Temp')\n",
    "plt.xlabel ('Halo Mass')\n",
    "\n",
    "plt.show()"
   ]
  },
  {
   "cell_type": "code",
   "execution_count": 10,
   "metadata": {},
   "outputs": [
    {
     "data": {
      "image/png": "[encoded data removed]",
      "text/plain": [
       "<Figure size 504x504 with 1 Axes>"
      ]
     },
     "metadata": {
      "needs_background": "light"
     },
     "output_type": "display_data"
    }
   ],
   "source": [
    "plt.figure(figsize=(7,7))\n",
    "\n",
    "plt.scatter(data['M_gas'], data['g_temp'], label='SF', c='b')\n",
    "plt.scatter(data['M_gas'][data['sSFR']<2e-11], data['g_temp'][data['sSFR']<2e-11], label='Q', c='r')\n",
    "plt.loglog()\n",
    "plt.ylim(1e3, 5e6)\n",
    "plt.xlim(1e5, 1e12)\n",
    "\n",
    "plt.title ('Gas mass vs Gas temp')\n",
    "plt.ylabel ('Temp')\n",
    "plt.xlabel ('Gas mass')\n",
    "\n",
    "plt.show()"
   ]
  },
  {
   "cell_type": "code",
   "execution_count": 11,
   "metadata": {},
   "outputs": [
    {
     "data": {
      "image/png": "[encoded data removed]",
      "text/plain": [
       "<Figure size 504x504 with 1 Axes>"
      ]
     },
     "metadata": {
      "needs_background": "light"
     },
     "output_type": "display_data"
    }
   ],
   "source": [
    "plt.figure(figsize=(7,7))\n",
    "\n",
    "plt.scatter(data['M_star'], data['g_temp'], label='SF', c='b')\n",
    "plt.scatter(data['M_star'][data['sSFR']<2e-11], data['g_temp'][data['sSFR']<2e-11], label='Q', c='r')\n",
    "plt.loglog()\n",
    "plt.ylim(1e3, 5e6)\n",
    "plt.xlim(1e4, 1e12)\n",
    "\n",
    "plt.legend()\n",
    "plt.title ('Stellar mass vs Gas temp')\n",
    "plt.ylabel ('Temp')\n",
    "plt.xlabel ('Stellar Mass')\n",
    "\n",
    "plt.show()"
   ]
  },
  {
   "cell_type": "code",
   "execution_count": 12,
   "metadata": {},
   "outputs": [
    {
     "data": {
      "image/png": "[encoded data removed]",
      "text/plain": [
       "<Figure size 504x504 with 1 Axes>"
      ]
     },
     "metadata": {
      "needs_background": "light"
     },
     "output_type": "display_data"
    }
   ],
   "source": [
    "plt.figure(figsize=(7,7))\n",
    "\n",
    "plt.scatter(data['g_temp'], data['sSFR'], label='SF', c='b')\n",
    "plt.scatter(data['g_temp'][data['sSFR']<2e-11], data['sSFR'][data['sSFR']<2e-11], label='Q', c='r')\n",
    "\n",
    "plt.loglog()\n",
    "plt.ylim(1e-13, 1e-8)\n",
    "plt.xlim(1e3, 5e6)\n",
    "\n",
    "plt.legend()\n",
    "plt.title ('Gas temp vs specific SFR')\n",
    "plt.ylabel ('sSFR')\n",
    "plt.xlabel ('temp')\n",
    "\n",
    "plt.show()"
   ]
  },
  {
   "cell_type": "code",
   "execution_count": null,
   "metadata": {},
   "outputs": [],
   "source": []
  },
  {
   "cell_type": "code",
   "execution_count": null,
   "metadata": {},
   "outputs": [],
   "source": []
  },
  {
   "cell_type": "code",
   "execution_count": null,
   "metadata": {},
   "outputs": [],
   "source": []
  },
  {
   "cell_type": "code",
   "execution_count": null,
   "metadata": {},
   "outputs": [],
   "source": []
  },
  {
   "cell_type": "code",
   "execution_count": null,
   "metadata": {},
   "outputs": [],
   "source": []
  }
 ],
 "metadata": {
  "kernelspec": {
   "display_name": "Python 3",
   "language": "python",
   "name": "python3"
  },
  "language_info": {
   "codemirror_mode": {
    "name": "ipython",
    "version": 3
   },
   "file_extension": ".py",
   "mimetype": "text/x-python",
   "name": "python",
   "nbconvert_exporter": "python",
   "pygments_lexer": "ipython3",
   "version": "3.7.3"
  }
 },
 "nbformat": 4,
 "nbformat_minor": 2
}
